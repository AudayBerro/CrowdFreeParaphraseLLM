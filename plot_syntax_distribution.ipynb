{
 "cells": [
  {
   "cell_type": "markdown",
   "metadata": {},
   "source": [
    "# Process raw results\n",
    "\n",
    "We add judgment time and turn the dataset to long format so that we can tag it for correctness."
   ]
  },
  {
   "cell_type": "code",
   "execution_count": 1,
   "metadata": {},
   "outputs": [
    {
     "data": {
      "text/plain": [
       "'/Users/jorge/Development/work/lyon/ConversationalAI'"
      ]
     },
     "execution_count": 1,
     "metadata": {},
     "output_type": "execute_result"
    }
   ],
   "source": [
    "import os\n",
    "import pathlib\n",
    "\n",
    "# let's just make sure we are at the root\n",
    "os.chdir(pathlib.Path().absolute().parent)\n",
    "os.getcwd()"
   ]
  },
  {
   "cell_type": "code",
   "execution_count": 2,
   "metadata": {},
   "outputs": [
    {
     "name": "stdout",
     "output_type": "stream",
     "text": [
      "env: CORENLP_HOME=/Users/jorge/Development/work/lyon/ConversationalAI/lib/corenlp\n"
     ]
    },
    {
     "name": "stderr",
     "output_type": "stream",
     "text": [
      "2021-11-20 13:47:16 WARNING: Can not find mwt: default from official model list. Ignoring it.\n",
      "2021-11-20 13:47:16 INFO: Loading these models for language: en (English):\n",
      "========================\n",
      "| Processor | Package  |\n",
      "------------------------\n",
      "| tokenize  | combined |\n",
      "| pos       | combined |\n",
      "| lemma     | combined |\n",
      "========================\n",
      "\n",
      "2021-11-20 13:47:16 INFO: Use device: cpu\n",
      "2021-11-20 13:47:16 INFO: Loading: tokenize\n",
      "2021-11-20 13:47:16 INFO: Loading: pos\n",
      "2021-11-20 13:47:16 INFO: Loading: lemma\n",
      "2021-11-20 13:47:16 INFO: Done loading processors!\n",
      "2021-11-20 13:47:16 INFO: Writing properties to tmp file: corenlp_server-e7aa5e1738164ed8.props\n"
     ]
    }
   ],
   "source": [
    "%matplotlib inline\n",
    "\n",
    "pwd = os.getcwd()\n",
    "%env CORENLP_HOME $pwd/lib/corenlp\n",
    "\n",
    "import pandas as pd\n",
    "import matplotlib.pyplot as plt\n",
    "import seaborn as sns\n",
    "import json\n",
    "from lib.preprocessing import text"
   ]
  },
  {
   "cell_type": "code",
   "execution_count": 36,
   "metadata": {},
   "outputs": [
    {
     "data": {
      "text/plain": [
       "(2040, 54)"
      ]
     },
     "execution_count": 36,
     "metadata": {},
     "output_type": "execute_result"
    }
   ],
   "source": [
    "df = pd.read_csv(\"exps/input/main-all-wide.csv\",)\n",
    "df.shape"
   ]
  },
  {
   "cell_type": "code",
   "execution_count": 37,
   "metadata": {},
   "outputs": [
    {
     "data": {
      "text/html": [
       "<div>\n",
       "<style scoped>\n",
       "    .dataframe tbody tr th:only-of-type {\n",
       "        vertical-align: middle;\n",
       "    }\n",
       "\n",
       "    .dataframe tbody tr th {\n",
       "        vertical-align: top;\n",
       "    }\n",
       "\n",
       "    .dataframe thead th {\n",
       "        text-align: right;\n",
       "    }\n",
       "</style>\n",
       "<table border=\"1\" class=\"dataframe\">\n",
       "  <thead>\n",
       "    <tr style=\"text-align: right;\">\n",
       "      <th></th>\n",
       "      <th>INPUT:tag</th>\n",
       "      <th>INPUT:row_pk</th>\n",
       "      <th>INPUT:intent</th>\n",
       "      <th>INPUT:input_utterance</th>\n",
       "      <th>INPUT:parameters</th>\n",
       "      <th>OUTPUT:paraphrase_0</th>\n",
       "      <th>OUTPUT:paraphrase_1</th>\n",
       "      <th>OUTPUT:paraphrase_2</th>\n",
       "      <th>INPUT:source</th>\n",
       "      <th>INPUT:pool_id</th>\n",
       "      <th>...</th>\n",
       "      <th>ASSIGNMENT:status</th>\n",
       "      <th>ASSIGNMENT:started</th>\n",
       "      <th>ASSIGNMENT:submitted</th>\n",
       "      <th>ASSIGNMENT:accepted</th>\n",
       "      <th>ASSIGNMENT:rejected</th>\n",
       "      <th>ASSIGNMENT:skipped</th>\n",
       "      <th>ASSIGNMENT:expired</th>\n",
       "      <th>ASSIGNMENT:reward</th>\n",
       "      <th>judgment_time_3p</th>\n",
       "      <th>judgment_time_1p</th>\n",
       "    </tr>\n",
       "  </thead>\n",
       "  <tbody>\n",
       "    <tr>\n",
       "      <th>0</th>\n",
       "      <td>NaN</td>\n",
       "      <td>5</td>\n",
       "      <td>CheckDevice</td>\n",
       "      <td>\"are the burglars alarms in the office good?\"</td>\n",
       "      <td>[['location', 'office']]</td>\n",
       "      <td>are the burglars alarms in the office works?</td>\n",
       "      <td>are the burglars alarms in the office cool?</td>\n",
       "      <td>are the buglars alarms in the office the awesone?</td>\n",
       "      <td>ParaQuality</td>\n",
       "      <td>baseline</td>\n",
       "      <td>...</td>\n",
       "      <td>APPROVED</td>\n",
       "      <td>2021-11-16 17:14:53.853</td>\n",
       "      <td>2021-11-16 17:19:11.537</td>\n",
       "      <td>2021-11-16T17:19:11.537</td>\n",
       "      <td>NaN</td>\n",
       "      <td>NaN</td>\n",
       "      <td>NaN</td>\n",
       "      <td>0.15</td>\n",
       "      <td>257.684</td>\n",
       "      <td>85.894667</td>\n",
       "    </tr>\n",
       "    <tr>\n",
       "      <th>1</th>\n",
       "      <td>NaN</td>\n",
       "      <td>5</td>\n",
       "      <td>CheckDevice</td>\n",
       "      <td>\"are the burglars alarms in the office good?\"</td>\n",
       "      <td>[['location', 'office']]</td>\n",
       "      <td>Does the office have good burglars alarms?</td>\n",
       "      <td>Is the security alarm in the office fine?</td>\n",
       "      <td>Does the office have good signaling?</td>\n",
       "      <td>ParaQuality</td>\n",
       "      <td>baseline</td>\n",
       "      <td>...</td>\n",
       "      <td>APPROVED</td>\n",
       "      <td>2021-11-16 17:15:45.418</td>\n",
       "      <td>2021-11-16 17:33:09.950</td>\n",
       "      <td>2021-11-16T17:33:09.950</td>\n",
       "      <td>NaN</td>\n",
       "      <td>NaN</td>\n",
       "      <td>NaN</td>\n",
       "      <td>0.15</td>\n",
       "      <td>1044.532</td>\n",
       "      <td>348.177333</td>\n",
       "    </tr>\n",
       "    <tr>\n",
       "      <th>2</th>\n",
       "      <td>NaN</td>\n",
       "      <td>5</td>\n",
       "      <td>CheckDevice</td>\n",
       "      <td>\"are the burglars alarms in the office good?\"</td>\n",
       "      <td>[['location', 'office']]</td>\n",
       "      <td>does are the burglars alarms good in the office?</td>\n",
       "      <td>does in the office the burglars good?</td>\n",
       "      <td>what is the good in the office?</td>\n",
       "      <td>ParaQuality</td>\n",
       "      <td>baseline</td>\n",
       "      <td>...</td>\n",
       "      <td>APPROVED</td>\n",
       "      <td>2021-11-16 17:16:52.852</td>\n",
       "      <td>2021-11-16 17:19:54.037</td>\n",
       "      <td>2021-11-16T17:19:54.037</td>\n",
       "      <td>NaN</td>\n",
       "      <td>NaN</td>\n",
       "      <td>NaN</td>\n",
       "      <td>0.15</td>\n",
       "      <td>181.185</td>\n",
       "      <td>60.395000</td>\n",
       "    </tr>\n",
       "    <tr>\n",
       "      <th>3</th>\n",
       "      <td>NaN</td>\n",
       "      <td>5</td>\n",
       "      <td>CheckDevice</td>\n",
       "      <td>\"are the burglars alarms in the office good?\"</td>\n",
       "      <td>[['location', 'office']]</td>\n",
       "      <td>has the office a good alarm system?</td>\n",
       "      <td>is the alarm system in the office good?</td>\n",
       "      <td>is the security in the office good?</td>\n",
       "      <td>ParaQuality</td>\n",
       "      <td>baseline</td>\n",
       "      <td>...</td>\n",
       "      <td>APPROVED</td>\n",
       "      <td>2021-11-16 17:42:07.972</td>\n",
       "      <td>2021-11-16 17:50:27.700</td>\n",
       "      <td>2021-11-16T17:50:27.700</td>\n",
       "      <td>NaN</td>\n",
       "      <td>NaN</td>\n",
       "      <td>NaN</td>\n",
       "      <td>0.15</td>\n",
       "      <td>499.728</td>\n",
       "      <td>166.576000</td>\n",
       "    </tr>\n",
       "    <tr>\n",
       "      <th>4</th>\n",
       "      <td>NaN</td>\n",
       "      <td>13</td>\n",
       "      <td>NavigatePlaylist</td>\n",
       "      <td>\"skip to previous song\"</td>\n",
       "      <td>[]</td>\n",
       "      <td>jump to previous song</td>\n",
       "      <td>skip to previous tune</td>\n",
       "      <td>jump to past song</td>\n",
       "      <td>ParaQuality</td>\n",
       "      <td>baseline</td>\n",
       "      <td>...</td>\n",
       "      <td>APPROVED</td>\n",
       "      <td>2021-11-16 17:43:11.843</td>\n",
       "      <td>2021-11-16 17:44:44.343</td>\n",
       "      <td>2021-11-16T17:44:44.343</td>\n",
       "      <td>NaN</td>\n",
       "      <td>NaN</td>\n",
       "      <td>NaN</td>\n",
       "      <td>0.15</td>\n",
       "      <td>92.500</td>\n",
       "      <td>30.833333</td>\n",
       "    </tr>\n",
       "  </tbody>\n",
       "</table>\n",
       "<p>5 rows × 56 columns</p>\n",
       "</div>"
      ],
      "text/plain": [
       "  INPUT:tag  INPUT:row_pk      INPUT:intent  \\\n",
       "0       NaN             5       CheckDevice   \n",
       "1       NaN             5       CheckDevice   \n",
       "2       NaN             5       CheckDevice   \n",
       "3       NaN             5       CheckDevice   \n",
       "4       NaN            13  NavigatePlaylist   \n",
       "\n",
       "                           INPUT:input_utterance          INPUT:parameters  \\\n",
       "0  \"are the burglars alarms in the office good?\"  [['location', 'office']]   \n",
       "1  \"are the burglars alarms in the office good?\"  [['location', 'office']]   \n",
       "2  \"are the burglars alarms in the office good?\"  [['location', 'office']]   \n",
       "3  \"are the burglars alarms in the office good?\"  [['location', 'office']]   \n",
       "4                        \"skip to previous song\"                        []   \n",
       "\n",
       "                                OUTPUT:paraphrase_0  \\\n",
       "0      are the burglars alarms in the office works?   \n",
       "1        Does the office have good burglars alarms?   \n",
       "2  does are the burglars alarms good in the office?   \n",
       "3               has the office a good alarm system?   \n",
       "4                             jump to previous song   \n",
       "\n",
       "                           OUTPUT:paraphrase_1  \\\n",
       "0  are the burglars alarms in the office cool?   \n",
       "1    Is the security alarm in the office fine?   \n",
       "2        does in the office the burglars good?   \n",
       "3      is the alarm system in the office good?   \n",
       "4                        skip to previous tune   \n",
       "\n",
       "                                 OUTPUT:paraphrase_2 INPUT:source  \\\n",
       "0  are the buglars alarms in the office the awesone?  ParaQuality   \n",
       "1               Does the office have good signaling?  ParaQuality   \n",
       "2                    what is the good in the office?  ParaQuality   \n",
       "3                is the security in the office good?  ParaQuality   \n",
       "4                                  jump to past song  ParaQuality   \n",
       "\n",
       "  INPUT:pool_id  ...  ASSIGNMENT:status      ASSIGNMENT:started  \\\n",
       "0      baseline  ...           APPROVED 2021-11-16 17:14:53.853   \n",
       "1      baseline  ...           APPROVED 2021-11-16 17:15:45.418   \n",
       "2      baseline  ...           APPROVED 2021-11-16 17:16:52.852   \n",
       "3      baseline  ...           APPROVED 2021-11-16 17:42:07.972   \n",
       "4      baseline  ...           APPROVED 2021-11-16 17:43:11.843   \n",
       "\n",
       "     ASSIGNMENT:submitted      ASSIGNMENT:accepted  ASSIGNMENT:rejected  \\\n",
       "0 2021-11-16 17:19:11.537  2021-11-16T17:19:11.537                  NaN   \n",
       "1 2021-11-16 17:33:09.950  2021-11-16T17:33:09.950                  NaN   \n",
       "2 2021-11-16 17:19:54.037  2021-11-16T17:19:54.037                  NaN   \n",
       "3 2021-11-16 17:50:27.700  2021-11-16T17:50:27.700                  NaN   \n",
       "4 2021-11-16 17:44:44.343  2021-11-16T17:44:44.343                  NaN   \n",
       "\n",
       "   ASSIGNMENT:skipped ASSIGNMENT:expired  ASSIGNMENT:reward  judgment_time_3p  \\\n",
       "0                 NaN                NaN               0.15           257.684   \n",
       "1                 NaN                NaN               0.15          1044.532   \n",
       "2                 NaN                NaN               0.15           181.185   \n",
       "3                 NaN                NaN               0.15           499.728   \n",
       "4                 NaN                NaN               0.15            92.500   \n",
       "\n",
       "  judgment_time_1p  \n",
       "0        85.894667  \n",
       "1       348.177333  \n",
       "2        60.395000  \n",
       "3       166.576000  \n",
       "4        30.833333  \n",
       "\n",
       "[5 rows x 56 columns]"
      ]
     },
     "execution_count": 37,
     "metadata": {},
     "output_type": "execute_result"
    }
   ],
   "source": [
    "# let's add the judgment time column\n",
    "#df[\"OUTPUT:trace\"] = df[\"OUTPUT:trace\"].apply(lambda t: json.loads(t))\n",
    "\n",
    "# we store judgment time in seconds\n",
    "# for some reason on_focus_time does not work. So we fallback to total_task_time\n",
    "#df[\"judgment_time\"] = df[\"OUTPUT:trace\"].apply(lambda t: t[\"total_task_time\"][\"milliseconds\"] / 1000)\n",
    "\n",
    "\n",
    "# we use the columns from Toloka because it did not manage to store the TRACE column.\n",
    "df[\"ASSIGNMENT:submitted\"] = df[\"ASSIGNMENT:submitted\"].astype('datetime64')\n",
    "df[\"ASSIGNMENT:started\"] = df[\"ASSIGNMENT:started\"].astype('datetime64')\n",
    "df[\"judgment_time_3p\"] = (df[\"ASSIGNMENT:submitted\"] - df[\"ASSIGNMENT:started\"]).dt.total_seconds()\n",
    "df[\"judgment_time_1p\"] = df[\"judgment_time_3p\"] / 3\n",
    "df.head()"
   ]
  },
  {
   "cell_type": "code",
   "execution_count": 38,
   "metadata": {},
   "outputs": [
    {
     "data": {
      "text/plain": [
       "Index(['INPUT:tag', 'INPUT:row_pk', 'INPUT:intent', 'INPUT:input_utterance',\n",
       "       'INPUT:parameters', 'OUTPUT:paraphrase_0', 'OUTPUT:paraphrase_1',\n",
       "       'OUTPUT:paraphrase_2', 'INPUT:source', 'INPUT:pool_id', 'INPUT:rand_cw',\n",
       "       'INPUT:is_correct', 'INPUT:input_pattern', 'INPUT:masked_ngrams',\n",
       "       'INPUT:rand_baseline', 'INPUT:prompt_context', 'INPUT:target_patterns',\n",
       "       'INPUT:distance_to_mean', 'INPUT:distance_to_seed',\n",
       "       'INPUT:input_utterance_words', 'INPUT:input_utterance_bootstrap',\n",
       "       'INPUT:input_utterance_lemmatized_words', 'OUTPUT:trace',\n",
       "       'OUTPUT:worker_uuid', 'OUTPUT:screen_width', 'OUTPUT:screen_height',\n",
       "       'OUTPUT:page_started_at', 'OUTPUT:provided_ngrams',\n",
       "       'OUTPUT:page_started_at_string', 'ASSIGNMENT:link',\n",
       "       'ASSIGNMENT:task_id', 'ASSIGNMENT:assignment_id',\n",
       "       'ASSIGNMENT:task_suite_id', 'ASSIGNMENT:worker_id', 'ASSIGNMENT:status',\n",
       "       'ASSIGNMENT:started', 'ASSIGNMENT:submitted', 'ASSIGNMENT:accepted',\n",
       "       'ASSIGNMENT:rejected', 'ASSIGNMENT:skipped', 'ASSIGNMENT:expired',\n",
       "       'ASSIGNMENT:reward', 'judgment_time_3p', 'judgment_time_1p'],\n",
       "      dtype='object')"
      ]
     },
     "execution_count": 38,
     "metadata": {},
     "output_type": "execute_result"
    }
   ],
   "source": [
    "# wide to long\n",
    "def column_mask(column: str):\n",
    "  return column.startswith(\"GOLDEN:\") or column.startswith(\"HINT:\")\n",
    "\n",
    "to_remove = list(filter(column_mask, df.columns))\n",
    "df.drop(columns=to_remove, inplace=True)\n",
    "\n",
    "df.columns"
   ]
  },
  {
   "cell_type": "code",
   "execution_count": 39,
   "metadata": {},
   "outputs": [
    {
     "data": {
      "text/plain": [
       "(6120, 43)"
      ]
     },
     "execution_count": 39,
     "metadata": {},
     "output_type": "execute_result"
    }
   ],
   "source": [
    "value_vars = [\"OUTPUT:paraphrase_0\", \"OUTPUT:paraphrase_1\", \"OUTPUT:paraphrase_2\"]\n",
    "\n",
    "def id_var_mask(column: str):\n",
    "  return column not in value_vars\n",
    "\n",
    "id_vars = list(filter(id_var_mask, df.columns))\n",
    "df_long = pd.melt(df, id_vars=id_vars, value_vars=value_vars)\n",
    "df_long.rename(columns={\"variable\": \"paraphrase_key\", \"value\": \"paraphrase_value\"}, inplace=True)\n",
    "df_long.sort_values(by=[\"INPUT:row_pk\", \"ASSIGNMENT:worker_id\"], inplace=True)\n",
    "df_long.shape"
   ]
  },
  {
   "cell_type": "code",
   "execution_count": 41,
   "metadata": {},
   "outputs": [
    {
     "name": "stderr",
     "output_type": "stream",
     "text": [
      "2021-11-20 15:23:23 INFO: Starting server with command: java -Xmx5G -cp /Users/jorge/Development/work/lyon/ConversationalAI/lib/corenlp/* edu.stanford.nlp.pipeline.StanfordCoreNLPServer -port 10000 -timeout 30000 -threads 5 -maxCharLength 100000 -quiet True -serverProperties corenlp_server-e7aa5e1738164ed8.props -annotators tokenize,ssplit,parse -preload -outputFormat json\n"
     ]
    },
    {
     "name": "stdout",
     "output_type": "stream",
     "text": [
      "\tvalue 7-daynot found... we SKIP\n",
      "Processing done... skipped parameters 1\n"
     ]
    }
   ],
   "source": [
    "# add paraphrase_patterns column\n",
    "# and update input_pattern just in case\n",
    "# we turn it to canonical form first as this is what we did in the UI as well before calling our backend services.\n",
    "\n",
    "\n",
    "def get_pattern(paraphrase: str):\n",
    " template = text.get_parse_template(paraphrase)\n",
    " template = \" \".join(template)\n",
    " return template\n",
    "\n",
    "\n",
    "from typing import List\n",
    "\n",
    "def get_key_for_parse(parameter_name, idx):\n",
    "  return f\"{idx}{parameter_name}{idx}\".lower()  \n",
    "\n",
    "\n",
    "def to_canonical(input_utterance: str, parameters: List[str], get_key_fn=get_key_for_parse):\n",
    "  # we need to parameterize the input utterance to make tokenization work for parameters\n",
    "  iu_canonical : str = input_utterance\n",
    "  skips = 0\n",
    "\n",
    "  for i, p in enumerate(parameters):\n",
    "    if len(p) == 0:\n",
    "      continue\n",
    "    p_name, p_val = p\n",
    "    # we lowercase to avoid issues with parameter values that were lower/upper cased by\n",
    "    # workers in their paraphrases\n",
    "    try:\n",
    "      #print(\"looking in... \" + iu_canonical.lower() + \" VALUE \" + p_val.lower())\n",
    "      pos = iu_canonical.lower().index(p_val.lower())\n",
    "      iu_canonical = iu_canonical[:pos] + get_key_fn(p_name, i) + iu_canonical[pos+len(p_val):]\n",
    "    except:\n",
    "      print(\"\\tvalue \" + p_val.lower() + \"not found... we SKIP\")\n",
    "      skips += 1\n",
    "  return iu_canonical, skips\n",
    "\n",
    "\n",
    "# add paraphrase_pattern column\n",
    "input_patterns_rows = []\n",
    "paraphrase_patterns_rows = []\n",
    "skips = 0\n",
    "\n",
    "for idx, row in df_long.iterrows():\n",
    "  parameters = eval(row[\"INPUT:parameters\"])\n",
    "  p_canonical, local_skips = to_canonical(row[\"paraphrase_value\"], parameters)\n",
    "  skips += local_skips\n",
    "  paraphrase_patterns_rows.append(get_pattern(p_canonical))\n",
    "\n",
    "  iu_canonical, _ = to_canonical(row[\"INPUT:input_utterance\"], parameters)\n",
    "  input_patterns_rows.append(get_pattern(iu_canonical))\n",
    "print(\"Processing done... skipped parameters \" + str(skips))\n",
    "\n",
    "df_long[\"paraphrase_pattern\"] = paraphrase_patterns_rows\n",
    "df_long[\"INPUT:input_pattern\"] = input_patterns_rows"
   ]
  },
  {
   "cell_type": "code",
   "execution_count": 42,
   "metadata": {},
   "outputs": [
    {
     "data": {
      "text/html": [
       "<div>\n",
       "<style scoped>\n",
       "    .dataframe tbody tr th:only-of-type {\n",
       "        vertical-align: middle;\n",
       "    }\n",
       "\n",
       "    .dataframe tbody tr th {\n",
       "        vertical-align: top;\n",
       "    }\n",
       "\n",
       "    .dataframe thead th {\n",
       "        text-align: right;\n",
       "    }\n",
       "</style>\n",
       "<table border=\"1\" class=\"dataframe\">\n",
       "  <thead>\n",
       "    <tr style=\"text-align: right;\">\n",
       "      <th></th>\n",
       "      <th>INPUT:tag</th>\n",
       "      <th>INPUT:row_pk</th>\n",
       "      <th>INPUT:intent</th>\n",
       "      <th>INPUT:input_utterance</th>\n",
       "      <th>INPUT:parameters</th>\n",
       "      <th>INPUT:source</th>\n",
       "      <th>INPUT:pool_id</th>\n",
       "      <th>INPUT:rand_cw</th>\n",
       "      <th>INPUT:is_correct</th>\n",
       "      <th>INPUT:input_pattern</th>\n",
       "      <th>...</th>\n",
       "      <th>ASSIGNMENT:accepted</th>\n",
       "      <th>ASSIGNMENT:rejected</th>\n",
       "      <th>ASSIGNMENT:skipped</th>\n",
       "      <th>ASSIGNMENT:expired</th>\n",
       "      <th>ASSIGNMENT:reward</th>\n",
       "      <th>judgment_time_3p</th>\n",
       "      <th>judgment_time_1p</th>\n",
       "      <th>paraphrase_key</th>\n",
       "      <th>paraphrase_value</th>\n",
       "      <th>paraphrase_pattern</th>\n",
       "    </tr>\n",
       "  </thead>\n",
       "  <tbody>\n",
       "    <tr>\n",
       "      <th>667</th>\n",
       "      <td>NaN</td>\n",
       "      <td>1</td>\n",
       "      <td>EndEC2Instance</td>\n",
       "      <td>\"Finish i-a541 now\"</td>\n",
       "      <td>[['VM', 'i-a541']]</td>\n",
       "      <td>ParaQuality</td>\n",
       "      <td>baseline-cw</td>\n",
       "      <td>0.947585</td>\n",
       "      <td>1</td>\n",
       "      <td>( ROOT ( NP ( FRAG ) ) )</td>\n",
       "      <td>...</td>\n",
       "      <td>2021-11-18T08:14:26.315</td>\n",
       "      <td>NaN</td>\n",
       "      <td>NaN</td>\n",
       "      <td>NaN</td>\n",
       "      <td>0.15</td>\n",
       "      <td>97.699</td>\n",
       "      <td>32.566333</td>\n",
       "      <td>OUTPUT:paraphrase_0</td>\n",
       "      <td>Get over with i-a541</td>\n",
       "      <td>( ROOT ( S ( VP ) ) )</td>\n",
       "    </tr>\n",
       "    <tr>\n",
       "      <th>2707</th>\n",
       "      <td>NaN</td>\n",
       "      <td>1</td>\n",
       "      <td>EndEC2Instance</td>\n",
       "      <td>\"Finish i-a541 now\"</td>\n",
       "      <td>[['VM', 'i-a541']]</td>\n",
       "      <td>ParaQuality</td>\n",
       "      <td>baseline-cw</td>\n",
       "      <td>0.947585</td>\n",
       "      <td>1</td>\n",
       "      <td>( ROOT ( NP ( FRAG ) ) )</td>\n",
       "      <td>...</td>\n",
       "      <td>2021-11-18T08:14:26.315</td>\n",
       "      <td>NaN</td>\n",
       "      <td>NaN</td>\n",
       "      <td>NaN</td>\n",
       "      <td>0.15</td>\n",
       "      <td>97.699</td>\n",
       "      <td>32.566333</td>\n",
       "      <td>OUTPUT:paraphrase_1</td>\n",
       "      <td>Get i-a541 done</td>\n",
       "      <td>( ROOT ( S ( VP ) ) )</td>\n",
       "    </tr>\n",
       "    <tr>\n",
       "      <th>4747</th>\n",
       "      <td>NaN</td>\n",
       "      <td>1</td>\n",
       "      <td>EndEC2Instance</td>\n",
       "      <td>\"Finish i-a541 now\"</td>\n",
       "      <td>[['VM', 'i-a541']]</td>\n",
       "      <td>ParaQuality</td>\n",
       "      <td>baseline-cw</td>\n",
       "      <td>0.947585</td>\n",
       "      <td>1</td>\n",
       "      <td>( ROOT ( NP ( FRAG ) ) )</td>\n",
       "      <td>...</td>\n",
       "      <td>2021-11-18T08:14:26.315</td>\n",
       "      <td>NaN</td>\n",
       "      <td>NaN</td>\n",
       "      <td>NaN</td>\n",
       "      <td>0.15</td>\n",
       "      <td>97.699</td>\n",
       "      <td>32.566333</td>\n",
       "      <td>OUTPUT:paraphrase_2</td>\n",
       "      <td>Do I-a541</td>\n",
       "      <td>( ROOT ( NP ( NNP ) ( NNPS ) ) )</td>\n",
       "    </tr>\n",
       "    <tr>\n",
       "      <th>1686</th>\n",
       "      <td>NaN</td>\n",
       "      <td>1</td>\n",
       "      <td>EndEC2Instance</td>\n",
       "      <td>Terminate i-a541 now</td>\n",
       "      <td>[['VM', 'i-a541']]</td>\n",
       "      <td>ParaQuality</td>\n",
       "      <td>taboo-patterns</td>\n",
       "      <td>0.244053</td>\n",
       "      <td>1</td>\n",
       "      <td>( ROOT ( FRAG ( NP ) ( ADVP ) ) )</td>\n",
       "      <td>...</td>\n",
       "      <td>2021-11-18 16:48:51</td>\n",
       "      <td>NaN</td>\n",
       "      <td>NaN</td>\n",
       "      <td>NaN</td>\n",
       "      <td>0.15</td>\n",
       "      <td>49.000</td>\n",
       "      <td>16.333333</td>\n",
       "      <td>OUTPUT:paraphrase_0</td>\n",
       "      <td>I want to visit terminate i-a541</td>\n",
       "      <td>( ROOT ( S ( NP ) ( VP ) ) )</td>\n",
       "    </tr>\n",
       "    <tr>\n",
       "      <th>3726</th>\n",
       "      <td>NaN</td>\n",
       "      <td>1</td>\n",
       "      <td>EndEC2Instance</td>\n",
       "      <td>Terminate i-a541 now</td>\n",
       "      <td>[['VM', 'i-a541']]</td>\n",
       "      <td>ParaQuality</td>\n",
       "      <td>taboo-patterns</td>\n",
       "      <td>0.244053</td>\n",
       "      <td>1</td>\n",
       "      <td>( ROOT ( FRAG ( NP ) ( ADVP ) ) )</td>\n",
       "      <td>...</td>\n",
       "      <td>2021-11-18 16:48:51</td>\n",
       "      <td>NaN</td>\n",
       "      <td>NaN</td>\n",
       "      <td>NaN</td>\n",
       "      <td>0.15</td>\n",
       "      <td>49.000</td>\n",
       "      <td>16.333333</td>\n",
       "      <td>OUTPUT:paraphrase_1</td>\n",
       "      <td>Is terminate i-a541 opened?</td>\n",
       "      <td>( ROOT ( SQ ( VBZ ) ( NP ) ( VP ) ( . ) ) )</td>\n",
       "    </tr>\n",
       "  </tbody>\n",
       "</table>\n",
       "<p>5 rows × 44 columns</p>\n",
       "</div>"
      ],
      "text/plain": [
       "     INPUT:tag  INPUT:row_pk    INPUT:intent INPUT:input_utterance  \\\n",
       "667        NaN             1  EndEC2Instance   \"Finish i-a541 now\"   \n",
       "2707       NaN             1  EndEC2Instance   \"Finish i-a541 now\"   \n",
       "4747       NaN             1  EndEC2Instance   \"Finish i-a541 now\"   \n",
       "1686       NaN             1  EndEC2Instance  Terminate i-a541 now   \n",
       "3726       NaN             1  EndEC2Instance  Terminate i-a541 now   \n",
       "\n",
       "        INPUT:parameters INPUT:source   INPUT:pool_id  INPUT:rand_cw  \\\n",
       "667   [['VM', 'i-a541']]  ParaQuality     baseline-cw       0.947585   \n",
       "2707  [['VM', 'i-a541']]  ParaQuality     baseline-cw       0.947585   \n",
       "4747  [['VM', 'i-a541']]  ParaQuality     baseline-cw       0.947585   \n",
       "1686  [['VM', 'i-a541']]  ParaQuality  taboo-patterns       0.244053   \n",
       "3726  [['VM', 'i-a541']]  ParaQuality  taboo-patterns       0.244053   \n",
       "\n",
       "      INPUT:is_correct                INPUT:input_pattern  ...  \\\n",
       "667                  1           ( ROOT ( NP ( FRAG ) ) )  ...   \n",
       "2707                 1           ( ROOT ( NP ( FRAG ) ) )  ...   \n",
       "4747                 1           ( ROOT ( NP ( FRAG ) ) )  ...   \n",
       "1686                 1  ( ROOT ( FRAG ( NP ) ( ADVP ) ) )  ...   \n",
       "3726                 1  ( ROOT ( FRAG ( NP ) ( ADVP ) ) )  ...   \n",
       "\n",
       "          ASSIGNMENT:accepted  ASSIGNMENT:rejected  ASSIGNMENT:skipped  \\\n",
       "667   2021-11-18T08:14:26.315                  NaN                 NaN   \n",
       "2707  2021-11-18T08:14:26.315                  NaN                 NaN   \n",
       "4747  2021-11-18T08:14:26.315                  NaN                 NaN   \n",
       "1686      2021-11-18 16:48:51                  NaN                 NaN   \n",
       "3726      2021-11-18 16:48:51                  NaN                 NaN   \n",
       "\n",
       "     ASSIGNMENT:expired  ASSIGNMENT:reward  judgment_time_3p judgment_time_1p  \\\n",
       "667                 NaN               0.15            97.699        32.566333   \n",
       "2707                NaN               0.15            97.699        32.566333   \n",
       "4747                NaN               0.15            97.699        32.566333   \n",
       "1686                NaN               0.15            49.000        16.333333   \n",
       "3726                NaN               0.15            49.000        16.333333   \n",
       "\n",
       "           paraphrase_key                  paraphrase_value  \\\n",
       "667   OUTPUT:paraphrase_0              Get over with i-a541   \n",
       "2707  OUTPUT:paraphrase_1                   Get i-a541 done   \n",
       "4747  OUTPUT:paraphrase_2                         Do I-a541   \n",
       "1686  OUTPUT:paraphrase_0  I want to visit terminate i-a541   \n",
       "3726  OUTPUT:paraphrase_1       Is terminate i-a541 opened?   \n",
       "\n",
       "                               paraphrase_pattern  \n",
       "667                         ( ROOT ( S ( VP ) ) )  \n",
       "2707                        ( ROOT ( S ( VP ) ) )  \n",
       "4747             ( ROOT ( NP ( NNP ) ( NNPS ) ) )  \n",
       "1686                 ( ROOT ( S ( NP ) ( VP ) ) )  \n",
       "3726  ( ROOT ( SQ ( VBZ ) ( NP ) ( VP ) ( . ) ) )  \n",
       "\n",
       "[5 rows x 44 columns]"
      ]
     },
     "execution_count": 42,
     "metadata": {},
     "output_type": "execute_result"
    }
   ],
   "source": [
    "df_long.head()"
   ]
  },
  {
   "cell_type": "markdown",
   "metadata": {},
   "source": [
    "let's do some data cleaning. We remove `(.)` from the patterns in the provided paraphrases and also those in the input patterns."
   ]
  },
  {
   "cell_type": "code",
   "execution_count": 43,
   "metadata": {},
   "outputs": [
    {
     "data": {
      "text/plain": [
       "(2342, 44)"
      ]
     },
     "execution_count": 43,
     "metadata": {},
     "output_type": "execute_result"
    }
   ],
   "source": [
    "# remove \"( . )\" in patterns\n",
    "to_remove_mask = df_long.paraphrase_pattern.str.contains(\" \\\\( \\\\. \\\\)\")\n",
    "df_long[to_remove_mask].shape"
   ]
  },
  {
   "cell_type": "code",
   "execution_count": 44,
   "metadata": {},
   "outputs": [
    {
     "data": {
      "text/plain": [
       "3726    ( ROOT ( SQ ( VBZ ) ( NP ) ( VP ) ( . ) ) )\n",
       "1423                    ( ROOT ( S ( VP ) ( . ) ) )\n",
       "3463                    ( ROOT ( S ( VP ) ( . ) ) )\n",
       "5503                    ( ROOT ( S ( VP ) ( . ) ) )\n",
       "993                     ( ROOT ( S ( VP ) ( . ) ) )\n",
       "                           ...                     \n",
       "2421     ( ROOT ( SBARQ ( WHADVP ) ( SQ ) ( . ) ) )\n",
       "4461     ( ROOT ( SQ ( MD ) ( NP ) ( VP ) ( . ) ) )\n",
       "379        ( ROOT ( SBARQ ( WHNP ) ( SQ ) ( . ) ) )\n",
       "2419       ( ROOT ( SBARQ ( WHNP ) ( SQ ) ( . ) ) )\n",
       "4459       ( ROOT ( SBARQ ( WHNP ) ( SQ ) ( . ) ) )\n",
       "Name: paraphrase_pattern, Length: 2342, dtype: object"
      ]
     },
     "execution_count": 44,
     "metadata": {},
     "output_type": "execute_result"
    }
   ],
   "source": [
    "df_long[to_remove_mask][\"paraphrase_pattern\"]"
   ]
  },
  {
   "cell_type": "code",
   "execution_count": 45,
   "metadata": {},
   "outputs": [
    {
     "data": {
      "text/plain": [
       "(0, 44)"
      ]
     },
     "execution_count": 45,
     "metadata": {},
     "output_type": "execute_result"
    }
   ],
   "source": [
    "df_long[\"paraphrase_pattern\"] = df_long.paraphrase_pattern.apply(lambda pp: pp.replace(\" ( . )\", \"\"))\n",
    "df_long[df_long.paraphrase_pattern.str.contains(\" \\\\( \\\\. \\\\)\")].shape"
   ]
  },
  {
   "cell_type": "code",
   "execution_count": 46,
   "metadata": {},
   "outputs": [
    {
     "data": {
      "text/plain": [
       "3726    ( ROOT ( SQ ( VBZ ) ( NP ) ( VP ) ) )\n",
       "1423                    ( ROOT ( S ( VP ) ) )\n",
       "3463                    ( ROOT ( S ( VP ) ) )\n",
       "5503                    ( ROOT ( S ( VP ) ) )\n",
       "993                     ( ROOT ( S ( VP ) ) )\n",
       "                        ...                  \n",
       "2421     ( ROOT ( SBARQ ( WHADVP ) ( SQ ) ) )\n",
       "4461     ( ROOT ( SQ ( MD ) ( NP ) ( VP ) ) )\n",
       "379        ( ROOT ( SBARQ ( WHNP ) ( SQ ) ) )\n",
       "2419       ( ROOT ( SBARQ ( WHNP ) ( SQ ) ) )\n",
       "4459       ( ROOT ( SBARQ ( WHNP ) ( SQ ) ) )\n",
       "Name: paraphrase_pattern, Length: 2342, dtype: object"
      ]
     },
     "execution_count": 46,
     "metadata": {},
     "output_type": "execute_result"
    }
   ],
   "source": [
    "df_long[to_remove_mask][\"paraphrase_pattern\"]"
   ]
  },
  {
   "cell_type": "code",
   "execution_count": 47,
   "metadata": {},
   "outputs": [
    {
     "data": {
      "text/plain": [
       "(1860, 44)"
      ]
     },
     "execution_count": 47,
     "metadata": {},
     "output_type": "execute_result"
    }
   ],
   "source": [
    "# remove \"( . )\" in input_pattern\n",
    "to_remove_mask = df_long[\"INPUT:input_pattern\"].str.contains(\" \\\\( \\\\. \\\\)\")\n",
    "df_long[to_remove_mask].shape"
   ]
  },
  {
   "cell_type": "code",
   "execution_count": 48,
   "metadata": {},
   "outputs": [
    {
     "data": {
      "text/plain": [
       "1009            ( ROOT ( S ( `` ) ( VP ) ( . ) ( '' ) ) )\n",
       "3049            ( ROOT ( S ( `` ) ( VP ) ( . ) ( '' ) ) )\n",
       "5089            ( ROOT ( S ( `` ) ( VP ) ( . ) ( '' ) ) )\n",
       "1015            ( ROOT ( S ( `` ) ( VP ) ( . ) ( '' ) ) )\n",
       "3055            ( ROOT ( S ( `` ) ( VP ) ( . ) ( '' ) ) )\n",
       "                              ...                        \n",
       "2657          ( ROOT ( S ( `` ) ( SBAR ) ( VP ) ( . ) ) )\n",
       "4697          ( ROOT ( S ( `` ) ( SBAR ) ( VP ) ( . ) ) )\n",
       "452     ( ROOT ( SBARQ ( `` ) ( WHNP ) ( SQ ) ( . ) ( ...\n",
       "2492    ( ROOT ( SBARQ ( `` ) ( WHNP ) ( SQ ) ( . ) ( ...\n",
       "4532    ( ROOT ( SBARQ ( `` ) ( WHNP ) ( SQ ) ( . ) ( ...\n",
       "Name: INPUT:input_pattern, Length: 1860, dtype: object"
      ]
     },
     "execution_count": 48,
     "metadata": {},
     "output_type": "execute_result"
    }
   ],
   "source": [
    "df_long[to_remove_mask][\"INPUT:input_pattern\"]"
   ]
  },
  {
   "cell_type": "code",
   "execution_count": 50,
   "metadata": {},
   "outputs": [
    {
     "data": {
      "text/plain": [
       "(0, 44)"
      ]
     },
     "execution_count": 50,
     "metadata": {},
     "output_type": "execute_result"
    }
   ],
   "source": [
    "df_long[\"INPUT:input_pattern\"] = df_long[\"INPUT:input_pattern\"].apply(lambda pp: pp.replace(\" ( . )\", \"\"))\n",
    "df_long[df_long[\"INPUT:input_pattern\"].str.contains(\" \\\\( \\\\. \\\\)\")].shape"
   ]
  },
  {
   "cell_type": "code",
   "execution_count": 51,
   "metadata": {},
   "outputs": [
    {
     "data": {
      "text/plain": [
       "1009                 ( ROOT ( S ( `` ) ( VP ) ( '' ) ) )\n",
       "3049                 ( ROOT ( S ( `` ) ( VP ) ( '' ) ) )\n",
       "5089                 ( ROOT ( S ( `` ) ( VP ) ( '' ) ) )\n",
       "1015                 ( ROOT ( S ( `` ) ( VP ) ( '' ) ) )\n",
       "3055                 ( ROOT ( S ( `` ) ( VP ) ( '' ) ) )\n",
       "                              ...                       \n",
       "2657               ( ROOT ( S ( `` ) ( SBAR ) ( VP ) ) )\n",
       "4697               ( ROOT ( S ( `` ) ( SBAR ) ( VP ) ) )\n",
       "452     ( ROOT ( SBARQ ( `` ) ( WHNP ) ( SQ ) ( '' ) ) )\n",
       "2492    ( ROOT ( SBARQ ( `` ) ( WHNP ) ( SQ ) ( '' ) ) )\n",
       "4532    ( ROOT ( SBARQ ( `` ) ( WHNP ) ( SQ ) ( '' ) ) )\n",
       "Name: INPUT:input_pattern, Length: 1860, dtype: object"
      ]
     },
     "execution_count": 51,
     "metadata": {},
     "output_type": "execute_result"
    }
   ],
   "source": [
    "df_long[to_remove_mask][\"INPUT:input_pattern\"]"
   ]
  },
  {
   "cell_type": "code",
   "execution_count": 52,
   "metadata": {},
   "outputs": [],
   "source": [
    "df_long.to_csv(\"exps/output/main-all.csv\", index=False)"
   ]
  }
 ],
 "metadata": {
  "interpreter": {
   "hash": "61e013e4f287b7f30e9571d6e2d84b92ea52cbb5f5ebc8c71199e5ae6e7b8cf8"
  },
  "kernelspec": {
   "display_name": "Python 3.9.4 64-bit ('ConversationalAI': venv)",
   "name": "python3"
  },
  "language_info": {
   "codemirror_mode": {
    "name": "ipython",
    "version": 3
   },
   "file_extension": ".py",
   "mimetype": "text/x-python",
   "name": "python",
   "nbconvert_exporter": "python",
   "pygments_lexer": "ipython3",
   "version": "3.9.4"
  },
  "orig_nbformat": 4
 },
 "nbformat": 4,
 "nbformat_minor": 2
}
